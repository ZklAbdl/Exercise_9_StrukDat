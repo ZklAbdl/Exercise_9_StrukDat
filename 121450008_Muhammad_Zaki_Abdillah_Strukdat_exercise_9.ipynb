{
  "nbformat": 4,
  "nbformat_minor": 0,
  "metadata": {
    "colab": {
      "provenance": [],
      "authorship_tag": "ABX9TyO7pbcQshXSNSarCPrL8gSR",
      "include_colab_link": true
    },
    "kernelspec": {
      "name": "python3",
      "display_name": "Python 3"
    },
    "language_info": {
      "name": "python"
    }
  },
  "cells": [
    {
      "cell_type": "markdown",
      "metadata": {
        "id": "view-in-github",
        "colab_type": "text"
      },
      "source": [
        "<a href=\"https://colab.research.google.com/github/ZklAbdl/Exercise_9_StrukDat/blob/main/121450008_Muhammad_Zaki_Abdillah_Strukdat_exercise_9.ipynb\" target=\"_parent\"><img src=\"https://colab.research.google.com/assets/colab-badge.svg\" alt=\"Open In Colab\"/></a>"
      ]
    },
    {
      "cell_type": "markdown",
      "source": [
        "# **Exercise 9 Struktur Data**\n"
      ],
      "metadata": {
        "id": "hqvdGBb0NwA9"
      }
    },
    {
      "cell_type": "markdown",
      "source": [
        "## **Introduction Section**"
      ],
      "metadata": {
        "id": "rD-71e6uOPGD"
      }
    },
    {
      "cell_type": "markdown",
      "source": [
        "1. Jelaskan definisi object dalam Paradigma Object-Oriented!\n",
        "2. Jelaskan tiga tujuan dalam Paradigma Object-Oriented!\n",
        "3. Jelaskan tiga prinsip dalam Paradigma Object-Oriented!\n",
        "4. Sebutkan contoh design pattern dalam Paradigma Object-Oriented!"
      ],
      "metadata": {
        "id": "jAcNY1OUWcDQ"
      }
    },
    {
      "cell_type": "markdown",
      "source": [
        "## **Jawab :**\n",
        "\n",
        "1. Pemrograman  berorientasi  objek merupakan paradigma pemrograman berdasarkan konsep objek, yang dapat berisi data, dalam  bentuk  field  atau  dikenal  juga  sebagai  atribut  serta  kode,  dalam  bentuk fungsi/prosedur atau dikenal juga sebagai method.\n",
        "\n",
        "\n",
        "2. *  Robustness : capable of handling unexpected inputs\n",
        "  *   Adaptability : Run with minimal change on different hardware and operating system platform\n",
        "  *   Reusability : the same code should be usable as a component\n",
        "\n",
        "3. *   Modularity : a collection of closely related functions and classes that are defined together in a singel file of source code \n",
        "   *   Encapsulation : pengikatan data atau metode berbeda yang disatukan atau “dikapsulkan” menjadi satu unit data.\n",
        "   *   abstraction : menyembunyikan detail latar belakang dan hanya mewakili informasi yang diperlukan untuk dunia luar.\n",
        "\n",
        "4. Iterator Class\n",
        "\n"
      ],
      "metadata": {
        "id": "n6GvCXNBWw6a"
      }
    },
    {
      "cell_type": "markdown",
      "source": [
        "## **Class and Object**"
      ],
      "metadata": {
        "id": "LsJMTAJ3cjE_"
      }
    },
    {
      "cell_type": "markdown",
      "source": [
        "1. Jelaskan definisi Class!\n",
        "2. Jelaskan perbedaan Attribute dengan Method!\n",
        "3. Jelaskan apa itu instansiasi Object!\n",
        "4. Jelaskan apa itu identifier!"
      ],
      "metadata": {
        "id": "_gRqs1sYdh29"
      }
    },
    {
      "cell_type": "markdown",
      "source": [
        "## **Jawab :**"
      ],
      "metadata": {
        "id": "-Q6FQP13dq64"
      }
    },
    {
      "cell_type": "markdown",
      "source": [
        "1. Class, merupakan sebuah blueprint yang dapat dikembangkan untuk membuat sebuah objek. Di dalam class bisa terdapat beberapa attribut ataupun behaviour.\n",
        "\n",
        "2. \n",
        "*   Atribut adalah ciri-ciri yang melekat pada suatu object serta merupakan bagian yang dimiliki oleh sebuah class yang tidak melakukan operasi, tetapi dapat dilakukan operasi sehingga dapat merubah nilai dari attribute tersebut.\n",
        "*   Method adalah fungsi-fungsi yang dapat digunakan untuk memanipulasi nilai-nilai pada atribut atau untuk melakukan hal-hal yang dapat dilakukan suatu object.\n",
        "\n",
        "3. instansiasi Object adalah pembuatan instance/objek dari suatu kelas. \n",
        "\n",
        "4. Identifier atau python identifier adalah nama yang digunakan untuk mengidentifikasi atau memberikan identitas untuk variabel, function, class, module, ataupun object lainnya. Identifier bisa diawali dengan huruf A-Z atau a-z atau underscore (_) diikuti huruf, underscore, dan digit (0-9)\n",
        "\n"
      ],
      "metadata": {
        "id": "OozP7Isdd0hx"
      }
    },
    {
      "cell_type": "markdown",
      "source": [
        "# **Implementing Class**"
      ],
      "metadata": {
        "id": "_6Zmlb02gKiO"
      }
    },
    {
      "cell_type": "code",
      "source": [
        "class kendaraan:\n",
        "\n",
        "  def __init__(self,nomorPlat,merk,jenis,warna,tanggalBeli,bulanBeli,tahunBeli,berat,harga):\n",
        "    self.nomorPlat = nomorPlat\n",
        "    self.merk = merk\n",
        "    self.jenis = jenis\n",
        "    self.warna = warna\n",
        "    self.tanggalBeli = tanggalBeli\n",
        "    self.bulanBeli = bulanBeli\n",
        "    self.tahunBeli = tahunBeli\n",
        "    self.berat = berat\n",
        "    self.harga = harga\n",
        "\n",
        "  def showTanggalPembelian(self):\n",
        "    print(f\"{self.tanggalBeli}/{self.bulanBeli}/{self.tahunBeli}/{self.merk}/{self.jenis}/{self.warna}/{self.berat}/{self.harga}\")\n",
        "\n",
        "kdn1 = kendaraan('1234', 'inova', 'kasino', 'hitam', '12', 'Maret', '2019', '300', '95.000.000')\n",
        "kdn1.showTanggalPembelian\n"
      ],
      "metadata": {
        "id": "78zkHTVOg-E6"
      },
      "execution_count": null,
      "outputs": []
    },
    {
      "cell_type": "markdown",
      "source": [
        "# **Main OOP Concept**"
      ],
      "metadata": {
        "id": "n2pP1hGbk9GP"
      }
    },
    {
      "cell_type": "markdown",
      "source": [
        "1. Jelaskan konsep encapsulation dalam Paradigma Object-Oriented!\n",
        "2. Jelaskan konsep inheritance dalam Paradigma Object-Oriented!\n",
        "3. Jelaskan perbedaan public method dan private method dalam encapsulation!\n",
        "4. Jelaskan perbedaan superclass dan subclass dalam inheritance!"
      ],
      "metadata": {
        "id": "V42BYEtilCX4"
      }
    },
    {
      "cell_type": "markdown",
      "source": [
        "## **Jawab :**\n"
      ],
      "metadata": {
        "id": "mMwncx7alJl7"
      }
    },
    {
      "cell_type": "markdown",
      "source": [
        "1. Encapsulation atau pengkapsulan adalah konsep tentang pengikatan data atau metode berbeda yang disatukan menjadi satu unit data.Yang mana berbagai objek yang berada dalam class tersebut dapat berdiri sendiri tanpa terpengaruh oleh yang lainnya. \n",
        "2. Inheritance dalam konsep OOP adalah kemampuan untuk membentuk class baru yang memiliki fungsi turunan atau mirip dengan fungsi yang ada sebelumnya. Konsep ini menggunakan sistem hierarki atau bertingkat. Yang artinya, semakin jauh turunan atau subclass-nya, maka semakin sedikit kemiripan fungsinya. \n",
        "3. Ketika sebuah property atau method dinyatakan sebagai public, maka seluruh kode program di luar class bisa mengaksesnya, termasuk class turunan. Jika sebuah property atau method di-set sebagai private, maka satu-satunya yang bisa mengakses adalah class itu sendiri. Class lain tidak bisa mengaksesnya, termasuk class turunan.\n",
        "4. Superclass digunakan untuk menunjukkan hirarki class yang berarti class dasar dari subclass/class anak.\n",
        "Subclass adalah class anak atau turunan secara hirarki dari superclass."
      ],
      "metadata": {
        "id": "M4W9XFpTlX8i"
      }
    },
    {
      "cell_type": "markdown",
      "source": [
        "# **Programming Exercise**"
      ],
      "metadata": {
        "id": "dj0XEuAX4tFs"
      }
    },
    {
      "cell_type": "markdown",
      "source": [
        "## Programming Exercise\n",
        "- Buatlah class diagram dari code python berikut ini:\n",
        "\n",
        "```python\n",
        "class Koordinat:\n",
        "\tdef __init__(self,x,y):\n",
        "\t\tself.z = 0\n",
        "\t\tself.x = x\n",
        "\t\tself.y = y\n",
        "\tdef set_x(self,x):\n",
        "\t\tself.x = x\n",
        "\tdef increment_x(self):\n",
        "\t\tself.x+=1\n",
        "\tdef __str__(self):\n",
        "\t\treturn f\"x : {self.x} , y:{self.y} , z:{self.z}\"\n",
        "```"
      ],
      "metadata": {
        "id": "baP044299Ge1"
      }
    },
    {
      "cell_type": "code",
      "source": [
        "from numpy import sqrt\n",
        "class norm:\n",
        "  def __init__(self, x, y, z):\n",
        "    self.x = x\n",
        "    self.y = y\n",
        "    self.z = z\n",
        "\n",
        "  def perhitungan(self):\n",
        "    self.hasil = sqrt((self.x)**2 + (self.y)**2 + (self.z)**2)\n",
        "\n",
        "  def display(self):\n",
        "    print(\"x : \", str(self.x))\n",
        "    print(\"y : \", str(self.y))\n",
        "    print(\"z : \", str(self.z))\n",
        "    print(\"Nilai norm dari vektor tersebut adalah\", str(self.hasil))\n",
        "    \n",
        "obj = norm(3, 6, 9)\n",
        "obj.perhitungan()\n",
        "obj.display()"
      ],
      "metadata": {
        "colab": {
          "base_uri": "https://localhost:8080/"
        },
        "id": "JZqrj9b24y6E",
        "outputId": "7f9d20f1-2d08-46a9-cc4d-f80fae620e94"
      },
      "execution_count": null,
      "outputs": [
        {
          "output_type": "stream",
          "name": "stdout",
          "text": [
            "x :  3\n",
            "y :  6\n",
            "z :  9\n",
            "Nilai norm dari vektor tersebut adalah 11.224972160321824\n"
          ]
        }
      ]
    },
    {
      "cell_type": "markdown",
      "source": [
        "\n",
        "*   Implementasikan class diagram berikut menjadi program python!\n",
        "\n",
        "\n"
      ],
      "metadata": {
        "id": "Y93w26Rf5dIt"
      }
    },
    {
      "cell_type": "markdown",
      "source": [
        "```mermaid\n",
        "classDiagram\n",
        "class Koordinat{\n",
        "\tint x\n",
        "\tint y\n",
        "\tint z\n",
        "\tsetx()\n",
        "\tsety()\n",
        "\tsetz()\n",
        "}\n",
        "class Vector{\n",
        "\tKoordinat koordinat\n",
        "\tsetKoordinat()\n",
        "\tgetKoordinat()\n",
        "\tnorm()\n",
        "}\n",
        "```"
      ],
      "metadata": {
        "id": "NGXq9yZf6heR"
      }
    },
    {
      "cell_type": "code",
      "source": [
        "from numpy import sqrt\n",
        "\n",
        "class Koordinat:\n",
        "  def __init__(self,x,y,z):\n",
        "    self.x = x\n",
        "    self.y = y\n",
        "    self.z = z\n",
        "  def setx(self):\n",
        "    return self.x\n",
        "  def sety(self):\n",
        "    return self.y\n",
        "  def setz(self):\n",
        "    return self.z\n",
        "\n",
        "class Vector(Koordinat):\n",
        "  def setKoordinat(self):\n",
        "    self.koordinat = self.x, self.y, self.z\n",
        "  def getKoordinat(self):\n",
        "    print(f'Koordinat {self.x, self.y, self.z}')\n",
        "  def norm(self):\n",
        "    self.norm = sqrt((self.x)**2 + (self.y)**2 + (self.z)**2)\n",
        "    print(f'Nilai norm vector nya adalah {self.norm}')\n",
        "\n",
        "b = Vector(3, 6, 9)\n",
        "b.setKoordinat()\n",
        "b.getKoordinat()\n",
        "b.norm()"
      ],
      "metadata": {
        "colab": {
          "base_uri": "https://localhost:8080/"
        },
        "id": "8sahmNZi5qUe",
        "outputId": "d26a5b9e-6155-49c1-c7a9-cde22f2e6603"
      },
      "execution_count": null,
      "outputs": [
        {
          "output_type": "stream",
          "name": "stdout",
          "text": [
            "Koordinat (3, 6, 9)\n",
            "Nilai norm vector nya adalah 11.224972160321824\n"
          ]
        }
      ]
    },
    {
      "cell_type": "markdown",
      "source": [
        "- fungsi norm() adalah fungsi untuk menghitung norm dari sebuah vector yaitu\n",
        "norm = $\\sqrt{x^2 + y^2 + z^2}$ . Buatlah fungsi untuk menghitung norm dari vector berdasarkan class yang telah anda buat! "
      ],
      "metadata": {
        "id": "7X_gyFgO6KR2"
      }
    },
    {
      "cell_type": "code",
      "source": [
        "class Koordinat :\n",
        "  def __init__ (self, x, y , z):\n",
        "    self.x = x\n",
        "    self.y = y\n",
        "    self.z = z\n",
        "  \n",
        "  def setx(self):\n",
        "    return self.x\n",
        "\n",
        "  def sety(self):\n",
        "    return self.y\n",
        "\n",
        "  def setz(self):\n",
        "    return self.z\n",
        "\n",
        "class vector :\n",
        "  def getKoordinat(self, setx,sety,setz):\n",
        "    self.setx = setx\n",
        "    self.sety = sety\n",
        "    self.setz = setz\n",
        "\n",
        "  def setKoordinat(self,k):\n",
        "    koordinat = (k.setx(), k.sety(), k.setz())\n",
        "    return koordinat\n",
        "\n",
        "  def norm(self, a, b):\n",
        "    sum = 0\n",
        "    self.a = self.setKoordinat(a)\n",
        "    self.b = self.setKoordinat(b)\n",
        "    for n in range (3):\n",
        "      sum = sum + (self.a[n]- self.b[n])**2\n",
        "    return sum **0.5"
      ],
      "metadata": {
        "id": "HeCt05iF6PKu"
      },
      "execution_count": null,
      "outputs": []
    },
    {
      "cell_type": "code",
      "source": [
        "a = Koordinat(2,3,2)\n",
        "b = Koordinat(0,0,0)\n",
        "v = vector()\n",
        "v.norm(a,b)"
      ],
      "metadata": {
        "colab": {
          "base_uri": "https://localhost:8080/"
        },
        "id": "4U3CLSVh8VCT",
        "outputId": "36ab7c4d-c6df-4833-88dc-50e23a7185a9"
      },
      "execution_count": null,
      "outputs": [
        {
          "output_type": "execute_result",
          "data": {
            "text/plain": [
              "4.123105625617661"
            ]
          },
          "metadata": {},
          "execution_count": 7
        }
      ]
    },
    {
      "cell_type": "markdown",
      "source": [
        "- Euclidian Distance adalah jarak antara 2 vector dan didefinisikan sebagai \n",
        "$$d = \\sqrt{ (x_1 - x_2)^2 + (y_1 - y_2)^2 + (x_1 - x_2)^2 } $$\n",
        "buatlah program untuk menghitung euclidian distance antara 2 vector berdasarkan class yang telah anda buat!"
      ],
      "metadata": {
        "id": "TIRA-6Zp8KZY"
      }
    },
    {
      "cell_type": "code",
      "source": [
        "class Euclidean(Vector):\n",
        "  def __init__(self, x, y, z, X2, Y2, Z2):\n",
        "    self.x = x\n",
        "    self.y = y\n",
        "    self.z = z\n",
        "    self.x2 = X2\n",
        "    self.y2 = Y2\n",
        "    self.z2 = Z2\n",
        "    \n",
        "  def euclidean_distance(self):\n",
        "    d = sqrt((self.x - self.x2)**2+(self.y - self.y2)**2+(self.z - self.z2)**2)\n",
        "    return d\n",
        "\n",
        "jarak_vektor = Euclidean(3,6,9,2,4,6)\n",
        "jarak_vektor.euclidean_distance()"
      ],
      "metadata": {
        "colab": {
          "base_uri": "https://localhost:8080/"
        },
        "id": "Vsc6yCQX8PnN",
        "outputId": "cdbf738c-739b-43f4-ac88-a7fe7019d1f3"
      },
      "execution_count": null,
      "outputs": [
        {
          "output_type": "execute_result",
          "data": {
            "text/plain": [
              "3.7416573867739413"
            ]
          },
          "metadata": {},
          "execution_count": 8
        }
      ]
    },
    {
      "cell_type": "markdown",
      "source": [
        "- Perhatikan tabel berikut\n",
        "\n",
        "| Vector | x   | y   | z   | kelas |\n",
        "| ------ | --- | --- | --- | ----- |\n",
        "| A      | 0   | 1   | 1   | 0     |\n",
        "| B      | 2   | 2   | 2   | 1     |\n",
        "| C      | 1.5 | 1.2 | 1.5 | 1     |\n",
        "| D      | 10  | 9   | 8   | 0     |\n",
        "| E      | 5   | 5   | 5   | 0     |\n",
        "| F      | 8   | 8   | 8   | 0     |\n",
        "| G      | 6   | 6   | 1   | 0     |\n",
        "| H      | 3   | 3   | 3   | ?     |\n",
        "\n",
        "\n",
        "Salah satu metode dalam data science untuk melakukan klasifikasi adalah dengan menggunakan k-nearest neighbor, dimana cara menentukan label kelas adalah dengan cara melihat tetangga dengan euclidian distance terdekat. Tentukan kelas dari vector H dengan cara:\n",
        "\n",
        "- Tentukan 3 tetangga paling dekat dari H \n",
        "- dari 3 tetangga tersebut, pilih kelas yang paling banyak muncul\n",
        "- Jadikan kelas yang paling banyak muncul tersebut sebagai kelas dari vector H\n",
        "\n",
        "Implementasikan algoritma tersebut menggunakan program python dengan paradigma object-oriented programming yang telah anda pelajari!"
      ],
      "metadata": {
        "id": "DqLnseGr8j31"
      }
    },
    {
      "cell_type": "code",
      "source": [
        "class Koordinat :\n",
        "  def __init__ (self, x,y,z,kelas):\n",
        "    self.x = x\n",
        "    self.y = y\n",
        "    self.z = z\n",
        "    self.kelas = kelas\n",
        "\n",
        "  def setx(self):\n",
        "    return self.x\n",
        "\n",
        "  def sety(self):\n",
        "    return self.y\n",
        "\n",
        "  def setz(self):\n",
        "    return self.z\n",
        "  \n",
        "  def kelas(self):\n",
        "    return self.kelas\n",
        "\n",
        "class vector :\n",
        "  def getKoordinat(self, setx, sety, setz):\n",
        "    self.setx = setx\n",
        "    self.sety = sety\n",
        "    self.setz = setz\n",
        "  \n",
        "  def setKoordinat (self,k):\n",
        "    koordinat = (k.setx(), k.sety(), k.setz())\n",
        "    return koordinat\n",
        "\n",
        "  def norm (self, a, b):\n",
        "    sum = 0\n",
        "    self.a = self.setKoordinat(a)\n",
        "    self.b = self.setKoordinat(b)\n",
        "    for n in range (3):\n",
        "      sum = sum + (self.a[n]-self.b[n])**2\n",
        "    return sum**0.5"
      ],
      "metadata": {
        "id": "6mVMfs_c8sEY"
      },
      "execution_count": null,
      "outputs": []
    },
    {
      "cell_type": "code",
      "source": [
        "a = Koordinat(0,1,1,0)\n",
        "b = Koordinat(2,2,2,1)\n",
        "c = Koordinat(1.5,1.2,1.5,1)\n",
        "d = Koordinat(10,9,8,0)\n",
        "e = Koordinat(5,5,5,0)\n",
        "f = Koordinat(8,8,8,0)\n",
        "g = Koordinat(6,6,1,0)\n",
        "h = Koordinat(3,3,3,None)\n",
        "v = vector()\n",
        "titik = [a,b,c,d,e,f,g,h]\n",
        "\n",
        "output = []\n",
        "for n in range (len(titik)):\n",
        "  panjang = v.norm(titik[n], titik[7])\n",
        "  output.append(panjang)\n",
        "\n",
        "print(output)\n",
        "output.sort()\n",
        "print(\"Norm paling dekat dengan H adalah : \", output[1])\n",
        "print(\"Norm kedua paling dekat dengan H adalah : \", output[2])\n",
        "print(\"Norm ketiga paling dekat dengan H adalah : \", output[3])\n",
        "print(\"Norm\", output[1], \"termasuk dalam kelas 1\")\n",
        "print(\"Norm\", output[2], \"termasuk dalam kelas 1\")\n",
        "print(\"Norm\", output[3], \"termasuk dalam kelas 0\")\n",
        "print(\"Domain kelas tetangga dari H yaitu kelas 1, sehingga H termasuk dalam kelas 1\")"
      ],
      "metadata": {
        "colab": {
          "base_uri": "https://localhost:8080/"
        },
        "id": "LCK7ZQzE9_Wr",
        "outputId": "a6b68210-9540-4c9a-b0c0-756c29cec360"
      },
      "execution_count": null,
      "outputs": [
        {
          "output_type": "stream",
          "name": "stdout",
          "text": [
            "[4.123105625617661, 1.7320508075688772, 2.7820855486487113, 10.488088481701515, 3.4641016151377544, 8.660254037844387, 4.69041575982343, 0.0]\n",
            "Norm paling dekat dengan H adalah :  1.7320508075688772\n",
            "Norm kedua paling dekat dengan H adalah :  2.7820855486487113\n",
            "Norm ketiga paling dekat dengan H adalah :  3.4641016151377544\n",
            "Norm 1.7320508075688772 termasuk dalam kelas 1\n",
            "Norm 2.7820855486487113 termasuk dalam kelas 1\n",
            "Norm 3.4641016151377544 termasuk dalam kelas 0\n",
            "Domain kelas tetangga dari H yaitu kelas 1, sehingga H termasuk dalam kelas 1\n"
          ]
        }
      ]
    }
  ]
}